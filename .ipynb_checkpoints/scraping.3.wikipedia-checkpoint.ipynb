{
 "cells": [
  {
   "cell_type": "code",
   "execution_count": 12,
   "metadata": {},
   "outputs": [],
   "source": [
    "###Read any table in webpage\n",
    "\n",
    "import pandas as pd\n"
   ]
  },
  {
   "cell_type": "code",
   "execution_count": 13,
   "metadata": {},
   "outputs": [],
   "source": [
    "#url \n",
    "url = 'https://id.wikipedia.org/wiki/Demografi_Indonesia#Jumlah_penduduk_menurut_provinsi'\n"
   ]
  },
  {
   "cell_type": "code",
   "execution_count": 14,
   "metadata": {},
   "outputs": [],
   "source": [
    "\n",
    "df_list = pd.read_html(url)\n"
   ]
  },
  {
   "cell_type": "code",
   "execution_count": 15,
   "metadata": {},
   "outputs": [
    {
     "name": "stdout",
     "output_type": "stream",
     "text": [
      "    Ranking         Kota             Provinsi Unnamed: 3\n",
      "0       1.0      Jakarta              Jakarta  9.586.705\n",
      "1       2.0     Surabaya           Jawa Timur  2.940.925\n",
      "2       3.0        Medan        Sumatra Utara  2.497.183\n",
      "3       4.0      Bandung           Jawa Barat  2.394.873\n",
      "4       5.0       Bekasi           Jawa Barat  2.334.871\n",
      "..      ...          ...                  ...        ...\n",
      "73     74.0       Sorong          Papua Barat    118.017\n",
      "74     75.0       Palopo     Sulawesi Selatan    116.152\n",
      "75     76.0         Bima  Nusa Tenggara Barat    112.130\n",
      "76     77.0  Bukittinggi        Sumatra Barat    111.312\n",
      "77     78.0      Bau-Bau    Sulawesi Tenggara    106.638\n",
      "\n",
      "[78 rows x 4 columns]\n"
     ]
    }
   ],
   "source": [
    "##load 2nd table \n",
    "df = df_list[2]\n",
    "print(df)"
   ]
  },
  {
   "cell_type": "code",
   "execution_count": null,
   "metadata": {},
   "outputs": [],
   "source": []
  }
 ],
 "metadata": {
  "kernelspec": {
   "display_name": "Python 3",
   "language": "python",
   "name": "python3"
  },
  "language_info": {
   "codemirror_mode": {
    "name": "ipython",
    "version": 3
   },
   "file_extension": ".py",
   "mimetype": "text/x-python",
   "name": "python",
   "nbconvert_exporter": "python",
   "pygments_lexer": "ipython3",
   "version": "3.8.5"
  }
 },
 "nbformat": 4,
 "nbformat_minor": 4
}
